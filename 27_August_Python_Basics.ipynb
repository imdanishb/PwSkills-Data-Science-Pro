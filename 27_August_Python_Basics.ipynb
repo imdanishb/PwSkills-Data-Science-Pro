{
 "cells": [
  {
   "cell_type": "code",
   "execution_count": 6,
   "id": "6791f6c8-b83f-4de3-ada1-03da81b1b45a",
   "metadata": {},
   "outputs": [
    {
     "name": "stdout",
     "output_type": "stream",
     "text": [
      "Before Swapping: x= 10  and y= 20\n",
      "Before Swapping: x= 20  and y= 10\n"
     ]
    }
   ],
   "source": [
    "#basic variable based question 1\n",
    "x = 10\n",
    "y = 20\n",
    "print(\"Before Swapping: x=\",x,\" and y=\",y)\n",
    "x,y = y,x #Swap x and y\n",
    "print(\"Before Swapping: x=\",x,\" and y=\",y)\n"
   ]
  },
  {
   "cell_type": "code",
   "execution_count": 8,
   "id": "cf8bcc60-c7b5-4767-a3cf-5d3583dc6245",
   "metadata": {},
   "outputs": [
    {
     "name": "stdin",
     "output_type": "stream",
     "text": [
      "Length of Rectangle:  20\n",
      "width of Rectangle:  10\n"
     ]
    },
    {
     "name": "stdout",
     "output_type": "stream",
     "text": [
      "The area of Rectangle is: 200\n"
     ]
    }
   ],
   "source": [
    "#basic variable based question 2\n",
    "length = int(input(\"Length of Rectangle: \"))\n",
    "width = int(input(\"width of Rectangle: \"))\n",
    "area = length * width #Calculate area of rectangle\n",
    "print(\"The area of Rectangle is:\",area)"
   ]
  },
  {
   "cell_type": "code",
   "execution_count": 9,
   "id": "347ed4b9-30ce-4ef2-9619-4e09ec0e47f5",
   "metadata": {},
   "outputs": [
    {
     "name": "stdin",
     "output_type": "stream",
     "text": [
      "Temperature in Celsius:  55\n"
     ]
    },
    {
     "name": "stdout",
     "output_type": "stream",
     "text": [
      "The provided celsius temperature in fahrenheit is: 131.0\n"
     ]
    }
   ],
   "source": [
    "#basic variable based question 3\n",
    "celsius = int(input(\"Temperature in Celsius: \")) #get the temperature in celsius\n",
    "fahrenheit = celsius * (9/5) + 32 #convert celsius into fahrenheit\n",
    "print(\"The provided celsius temperature in fahrenheit is:\",fahrenheit)"
   ]
  },
  {
   "cell_type": "code",
   "execution_count": 10,
   "id": "8ca285b2-51e2-4a30-8f0f-037b1df6c0f5",
   "metadata": {},
   "outputs": [
    {
     "name": "stdin",
     "output_type": "stream",
     "text": [
      "Enter the string:  danish bashir\n"
     ]
    },
    {
     "name": "stdout",
     "output_type": "stream",
     "text": [
      "The length of the provided string is 13\n"
     ]
    }
   ],
   "source": [
    "#String based question 1\n",
    "string1 = input(\"Enter the string: \")\n",
    "print(\"The length of the provided string is\",len(string1)) #prints the length of string"
   ]
  },
  {
   "cell_type": "code",
   "execution_count": 11,
   "id": "60e84e1b-2f96-42c1-b1fb-baf63c22242c",
   "metadata": {},
   "outputs": [
    {
     "name": "stdin",
     "output_type": "stream",
     "text": [
      "Enter a string:  danish bashir\n"
     ]
    },
    {
     "name": "stdout",
     "output_type": "stream",
     "text": [
      "danish bashir\n",
      "{'a': 2, 'e': 0, 'i': 2, 'o': 0, 'u': 0}\n"
     ]
    }
   ],
   "source": [
    "#String based question 2\n",
    "\n",
    "\n",
    "ip_str = input(\"Enter a string: \") # take input from the user\n",
    "\n",
    "ip_str = ip_str.casefold()# make it suitable for caseless comparisions\n",
    "\n",
    "print(ip_str)\n",
    "\n",
    "count = {x:sum([1 for char in ip_str if char == x]) for x in 'aeiou'} # count the vowels\n",
    "\n",
    "print(count)\n",
    "\n",
    "\n",
    "\n",
    "\n",
    "\n"
   ]
  },
  {
   "cell_type": "code",
   "execution_count": 12,
   "id": "c1977d6f-9467-48eb-b52f-2c4a9d3085ac",
   "metadata": {},
   "outputs": [
    {
     "name": "stdin",
     "output_type": "stream",
     "text": [
      "Enter a string Danish Bashir\n"
     ]
    },
    {
     "name": "stdout",
     "output_type": "stream",
     "text": [
      "rihsaB hsinaD\n"
     ]
    }
   ],
   "source": [
    "#String based question 3\n",
    "given_string = input(\"Enter a string\")\n",
    "reversed_string = given_string[::-1] #reverses the string\n",
    "print(reversed_string)"
   ]
  },
  {
   "cell_type": "code",
   "execution_count": 13,
   "id": "e95d3cfc-e3f8-4572-b9e2-21c82fb3fcff",
   "metadata": {},
   "outputs": [
    {
     "name": "stdin",
     "output_type": "stream",
     "text": [
      "Enter a string:  madam\n"
     ]
    },
    {
     "name": "stdout",
     "output_type": "stream",
     "text": [
      "It's a palindrome!\n"
     ]
    }
   ],
   "source": [
    "\"Strin4 based question 4\"\n",
    "\n",
    "def is_palindrome(s):\n",
    "    s = s.lower()  # Convert to lowercase for case-insensitive comparison\n",
    "    s = ''.join(c for c in s if c.isalnum())  # Remove non-alphanumeric characters\n",
    "    return s == s[::-1]\n",
    "\n",
    "input_string = input(\"Enter a string: \")\n",
    "if is_palindrome(input_string):\n",
    "    print(\"It's a palindrome!\")\n",
    "else:\n",
    "    print(\"It's not a palindrome.\")\n"
   ]
  },
  {
   "cell_type": "code",
   "execution_count": 14,
   "id": "0c0f9c43-6a6e-4a65-898c-ab0f8602a772",
   "metadata": {},
   "outputs": [
    {
     "name": "stdin",
     "output_type": "stream",
     "text": [
      "Enter a string:  Danish Bashir Sheikh\n"
     ]
    },
    {
     "name": "stdout",
     "output_type": "stream",
     "text": [
      "Modified string without spaces: DanishBashirSheikh\n"
     ]
    }
   ],
   "source": [
    "\"String based question 5\"\n",
    "input_string = input(\"Enter a string: \")\n",
    "modified_string = input_string.replace(\" \",\"\") #removes space from everywhere in the string\n",
    "print(\"Modified string without spaces:\", modified_string)"
   ]
  },
  {
   "cell_type": "code",
   "execution_count": null,
   "id": "d833fe70-9581-43e6-b299-f12040c1396c",
   "metadata": {},
   "outputs": [],
   "source": []
  },
  {
   "cell_type": "code",
   "execution_count": null,
   "id": "b5b8e97e-7e32-4fd1-bc28-4eaa0040e355",
   "metadata": {},
   "outputs": [],
   "source": []
  }
 ],
 "metadata": {
  "kernelspec": {
   "display_name": "Python 3 (ipykernel)",
   "language": "python",
   "name": "python3"
  },
  "language_info": {
   "codemirror_mode": {
    "name": "ipython",
    "version": 3
   },
   "file_extension": ".py",
   "mimetype": "text/x-python",
   "name": "python",
   "nbconvert_exporter": "python",
   "pygments_lexer": "ipython3",
   "version": "3.10.8"
  }
 },
 "nbformat": 4,
 "nbformat_minor": 5
}
